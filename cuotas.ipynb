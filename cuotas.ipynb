{
 "cells": [
  {
   "cell_type": "code",
   "execution_count": 3,
   "id": "06356570",
   "metadata": {},
   "outputs": [],
   "source": [
    "import pandas as pd"
   ]
  },
  {
   "cell_type": "code",
   "execution_count": 4,
   "id": "cf6c1757",
   "metadata": {},
   "outputs": [
    {
     "data": {
      "text/plain": [
       "9297.95911564735"
      ]
     },
     "execution_count": 4,
     "metadata": {},
     "output_type": "execute_result"
    }
   ],
   "source": [
    "class interesInexistente( Exception ): \n",
    "    pass\n",
    "class TasaExcesiva( Exception ): \n",
    "    pass\n",
    "class montoInexistente( Exception ): \n",
    "    pass\n",
    "class montoNegativo( Exception ): \n",
    "    pass\n",
    "class plazoNegativo( Exception ): \n",
    "    pass\n",
    "\n",
    "import pandas as pd\n",
    "def calcularCuota (compra, interes, plazo):\n",
    "    if interes == 0 :\n",
    "        return 0\n",
    "    \n",
    "    if interes*12 > 100:\n",
    "        raise TasaExcesiva( \"La tasa no debe ser superior a 100\")\n",
    "    \n",
    "    if plazo == 1: \n",
    "        return 0\n",
    "    \n",
    "    if compra <= 0: \n",
    "        if compra== 0 :\n",
    "            raise montoInexistente( \"debe existir un monto\")\n",
    "        else:\n",
    "            raise montoNegativo( \"monto negativo\")\n",
    "        \n",
    "    if plazo <= 0: \n",
    "        if plazo== 0 :\n",
    "            return 0\n",
    "        else:\n",
    "            raise plazoNegativo( \"el plazo debe ser positivo\")    \n",
    "    else:\n",
    "        i= interes/100\n",
    "        cuota=(compra * i) / (1 - (1 + i) ** (-plazo))\n",
    "        return (cuota)#*plazo)# - compra \n",
    "    \n"
   ]
  },
  {
   "cell_type": "code",
   "execution_count": 24,
   "id": "ac552af2",
   "metadata": {},
   "outputs": [],
   "source": [
    "compra = 200000\n",
    "interes = 3.1\n",
    "plazo = 36\n",
    "listadf=[]\n",
    "cuota=calcularCuota (compra, interes, plazo)\n",
    "\n",
    "for i in range(plazo):\n",
    "    listadf.append([cuota,(compra-cuota)*interes/100,cuota-(compra-cuota)*interes/100 , compra-cuota])\n",
    "    compra-=cuota"
   ]
  },
  {
   "cell_type": "code",
   "execution_count": 26,
   "id": "658af52c",
   "metadata": {},
   "outputs": [
    {
     "data": {
      "text/html": [
       "<div>\n",
       "<style scoped>\n",
       "    .dataframe tbody tr th:only-of-type {\n",
       "        vertical-align: middle;\n",
       "    }\n",
       "\n",
       "    .dataframe tbody tr th {\n",
       "        vertical-align: top;\n",
       "    }\n",
       "\n",
       "    .dataframe thead th {\n",
       "        text-align: right;\n",
       "    }\n",
       "</style>\n",
       "<table border=\"1\" class=\"dataframe\">\n",
       "  <thead>\n",
       "    <tr style=\"text-align: right;\">\n",
       "      <th></th>\n",
       "      <th>Cuota</th>\n",
       "      <th>Interes</th>\n",
       "      <th>amortizacion</th>\n",
       "      <th>saldo</th>\n",
       "    </tr>\n",
       "  </thead>\n",
       "  <tbody>\n",
       "    <tr>\n",
       "      <th>31</th>\n",
       "      <td>9297.959116</td>\n",
       "      <td>-3023.575443</td>\n",
       "      <td>12321.534558</td>\n",
       "      <td>-97534.691701</td>\n",
       "    </tr>\n",
       "    <tr>\n",
       "      <th>32</th>\n",
       "      <td>9297.959116</td>\n",
       "      <td>-3311.812175</td>\n",
       "      <td>12609.771291</td>\n",
       "      <td>-106832.650816</td>\n",
       "    </tr>\n",
       "    <tr>\n",
       "      <th>33</th>\n",
       "      <td>9297.959116</td>\n",
       "      <td>-3600.048908</td>\n",
       "      <td>12898.008024</td>\n",
       "      <td>-116130.609932</td>\n",
       "    </tr>\n",
       "    <tr>\n",
       "      <th>34</th>\n",
       "      <td>9297.959116</td>\n",
       "      <td>-3888.285640</td>\n",
       "      <td>13186.244756</td>\n",
       "      <td>-125428.569048</td>\n",
       "    </tr>\n",
       "    <tr>\n",
       "      <th>35</th>\n",
       "      <td>9297.959116</td>\n",
       "      <td>-4176.522373</td>\n",
       "      <td>13474.481489</td>\n",
       "      <td>-134726.528163</td>\n",
       "    </tr>\n",
       "  </tbody>\n",
       "</table>\n",
       "</div>"
      ],
      "text/plain": [
       "          Cuota      Interes  amortizacion          saldo\n",
       "31  9297.959116 -3023.575443  12321.534558  -97534.691701\n",
       "32  9297.959116 -3311.812175  12609.771291 -106832.650816\n",
       "33  9297.959116 -3600.048908  12898.008024 -116130.609932\n",
       "34  9297.959116 -3888.285640  13186.244756 -125428.569048\n",
       "35  9297.959116 -4176.522373  13474.481489 -134726.528163"
      ]
     },
     "execution_count": 26,
     "metadata": {},
     "output_type": "execute_result"
    }
   ],
   "source": [
    "dataf = pd.DataFrame(listadf, columns=[\"Cuota\",\"Interes\",\"amortizacion\",\"saldo\"])\n",
    "dataf.tail()"
   ]
  },
  {
   "cell_type": "code",
   "execution_count": null,
   "id": "aa202f53",
   "metadata": {},
   "outputs": [],
   "source": []
  }
 ],
 "metadata": {
  "kernelspec": {
   "display_name": "Python 3 (ipykernel)",
   "language": "python",
   "name": "python3"
  },
  "language_info": {
   "codemirror_mode": {
    "name": "ipython",
    "version": 3
   },
   "file_extension": ".py",
   "mimetype": "text/x-python",
   "name": "python",
   "nbconvert_exporter": "python",
   "pygments_lexer": "ipython3",
   "version": "3.9.16"
  }
 },
 "nbformat": 4,
 "nbformat_minor": 5
}
