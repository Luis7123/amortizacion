{
  "cells": [
    {
      "cell_type": "markdown",
      "metadata": {
        "id": "view-in-github",
        "colab_type": "text"
      },
      "source": [
        "<a href=\"https://colab.research.google.com/github/Luis7123/amortizacion/blob/main/cuotas_CodLimpio.ipynb\" target=\"_parent\"><img src=\"https://colab.research.google.com/assets/colab-badge.svg\" alt=\"Open In Colab\"/></a>"
      ]
    },
    {
      "cell_type": "markdown",
      "source": [
        "#Importar librerias."
      ],
      "metadata": {
        "id": "G0M00UJKW0Aq"
      },
      "id": "G0M00UJKW0Aq"
    },
    {
      "cell_type": "code",
      "execution_count": 2,
      "id": "4a81bef4",
      "metadata": {
        "id": "4a81bef4"
      },
      "outputs": [],
      "source": [
        "import pandas as pd"
      ]
    },
    {
      "cell_type": "code",
      "execution_count": 24,
      "id": "cf6c1757",
      "metadata": {
        "cellView": "form",
        "id": "cf6c1757"
      },
      "outputs": [],
      "source": [
        "# @title Funcion Calcular Cuota\n",
        "class interesInexistente( Exception ):\n",
        "    pass\n",
        "class TasaExcesiva( Exception ):\n",
        "    pass\n",
        "class montoInexistente( Exception ):\n",
        "    pass\n",
        "class montoNegativo( Exception ):\n",
        "    pass\n",
        "class plazoNegativo( Exception ):\n",
        "    pass\n",
        "class InteresNegativo( Exception ):\n",
        "    pass\n",
        "\n",
        "import pandas as pd\n",
        "def calcularCuota (compra, interes, plazo):\n",
        "    if interes == 0 :\n",
        "        return 0\n",
        "\n",
        "    if interes < 0:\n",
        "        raise InteresNegativo( \"El interes debe de ser un numero mayor a cero\")\n",
        "\n",
        "    if interes*12 > 100:\n",
        "        raise TasaExcesiva( \"La tasa no debe ser superior a 100\")\n",
        "\n",
        "    if plazo == 1:\n",
        "        return 0\n",
        "\n",
        "    if compra <= 0:\n",
        "        if compra== 0 :\n",
        "            raise montoInexistente( \"debe existir un monto\")\n",
        "        else:\n",
        "            raise montoNegativo( \"monto negativo\")\n",
        "\n",
        "    if plazo <= 0:\n",
        "        if plazo== 0 :\n",
        "            return 0\n",
        "        else:\n",
        "            raise plazoNegativo( \"el plazo debe ser positivo\")\n",
        "    else:\n",
        "        i= interes/100\n",
        "        cuota=(compra * i) / (1 - (1 + i) ** (-plazo))\n",
        "        return (cuota)#*plazo)# - compra\n",
        ""
      ]
    },
    {
      "cell_type": "code",
      "execution_count": 29,
      "id": "ac552af2",
      "metadata": {
        "cellView": "form",
        "id": "ac552af2"
      },
      "outputs": [],
      "source": [
        "# @title DataFrame amortizacion\n",
        "def dataf(compra,interes,plazo):\n",
        "    compra = compra\n",
        "    interes = interes\n",
        "    plazo = plazo\n",
        "    amortizacion=0\n",
        "    interes_cuota=0\n",
        "\n",
        "    cuota=calcularCuota (compra, interes, plazo)\n",
        "    listadf=[[cuota,interes,amortizacion,compra]]\n",
        "\n",
        "    for i in range(plazo):\n",
        "        interes_cuota=compra*interes/100\n",
        "        amortizacion=cuota-compra*interes/100\n",
        "        compra=compra-cuota+interes_cuota\n",
        "\n",
        "        listadf.append([cuota,interes_cuota,amortizacion,round(compra,3)])\n",
        "    return pd.DataFrame(listadf, columns=[\"Cuota\",\"Interes\",\"amortizacion\",\"saldo\"])"
      ]
    },
    {
      "cell_type": "code",
      "execution_count": null,
      "id": "a611209d",
      "metadata": {
        "cellView": "form",
        "id": "a611209d"
      },
      "outputs": [],
      "source": [
        "# @title Interfaz\n",
        "\n",
        "amortizacion= True # @param {type:\"boolean\"}\n",
        "Calcular_Cuota = False # @param {type:\"boolean\"}\n",
        "Compra = 200000 # @param {type:\"number\"}\n",
        "Interes = 3.1 # @param {type:\"number\"}\n",
        "Plazo = 36 # @param {type:\"number\"}\n",
        "\n",
        "\n",
        "if amortizacion == True:\n",
        "  display(dataf(Compra,Interes,Plazo).tail(5))\n",
        "if Calcular_Cuota == True:\n",
        "  print(\"\\n La cuota mensual será : \",calcularCuota (Compra, Interes, Plazo))"
      ]
    },
    {
      "cell_type": "code",
      "source": [],
      "metadata": {
        "id": "3HpdkoLbYqzR"
      },
      "id": "3HpdkoLbYqzR",
      "execution_count": null,
      "outputs": []
    }
  ],
  "metadata": {
    "kernelspec": {
      "display_name": "Python 3 (ipykernel)",
      "language": "python",
      "name": "python3"
    },
    "language_info": {
      "codemirror_mode": {
        "name": "ipython",
        "version": 3
      },
      "file_extension": ".py",
      "mimetype": "text/x-python",
      "name": "python",
      "nbconvert_exporter": "python",
      "pygments_lexer": "ipython3",
      "version": "3.9.16"
    },
    "colab": {
      "provenance": [],
      "include_colab_link": true
    }
  },
  "nbformat": 4,
  "nbformat_minor": 5
}